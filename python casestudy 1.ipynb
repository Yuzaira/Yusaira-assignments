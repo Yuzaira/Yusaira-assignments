{
 "cells": [
  {
   "cell_type": "code",
   "execution_count": 6,
   "metadata": {},
   "outputs": [
    {
     "name": "stdout",
     "output_type": "stream",
     "text": [
      "\n",
      " Amount Deposited: 10000.0\n",
      "\n",
      " You Withdrew:  5500.0\n",
      "\n",
      " Net Available Balance= 4500.0\n"
     ]
    }
   ],
   "source": [
    "class Bank_Account:\n",
    "    def __init__(self):\n",
    "        self.balance=0\n",
    "         \n",
    "    def deposit(self):\n",
    "        amount=float(input('Enter the amount to be deposited: '))\n",
    "        self.balance += amount\n",
    "        print('\\n Amount Deposited:', amount)\n",
    "\n",
    "    def withdraw(self):\n",
    "        amount = float(input('Enter the amount to be withdrawn: '))\n",
    "        if self.balance>=amount:\n",
    "            self.balance-=amount\n",
    "            print('\\n You Withdrew: ', amount)\n",
    "        else:\n",
    "            print('\\n Insufficient balance ')\n",
    "\n",
    "    \n",
    "    def display(self):\n",
    "        print('\\n Net Available Balance=',self.balance)\n",
    " \n",
    " #Driver code\n",
    " #Creating an object of class\n",
    "\n",
    "s=Bank_Account()\n",
    "\n",
    "#calling functions with that class object\n",
    "s.deposit()\n",
    "s.withdraw()\n",
    "s.display()"
   ]
  },
  {
   "cell_type": "code",
   "execution_count": null,
   "metadata": {},
   "outputs": [],
   "source": []
  }
 ],
 "metadata": {
  "kernelspec": {
   "display_name": "Python 3",
   "language": "python",
   "name": "python3"
  },
  "language_info": {
   "codemirror_mode": {
    "name": "ipython",
    "version": 3
   },
   "file_extension": ".py",
   "mimetype": "text/x-python",
   "name": "python",
   "nbconvert_exporter": "python",
   "pygments_lexer": "ipython3",
   "version": "3.12.4"
  }
 },
 "nbformat": 4,
 "nbformat_minor": 2
}
