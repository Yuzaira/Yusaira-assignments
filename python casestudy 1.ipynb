{
 "cells": [
  {
   "cell_type": "code",
   "execution_count": 1,
   "metadata": {},
   "outputs": [
    {
     "name": "stdout",
     "output_type": "stream",
     "text": [
      "Deposited $500. Current balance: $1500\n",
      "Withdrew $200. Current balance: $1300\n"
     ]
    }
   ],
   "source": [
    "class BankAccount: \n",
    "    def __init__(self, account_number, account_holder, initial_balance): \n",
    "        self.account_number = account_number \n",
    "        self.account_holder = account_holder \n",
    "        self.balance = initial_balance \n",
    "    def deposit(self, amount): \n",
    "        self.balance += amount \n",
    "        print(f\"Deposited ${amount}. Current balance: ${self.balance}\") \n",
    "    def withdraw(self, amount): \n",
    "        if amount > self.balance: \n",
    "            print\n",
    "            (\"Insufficient funds\") \n",
    "        else: \n",
    "            self.balance -= amount \n",
    "            print(f\"Withdrew ${amount}. Current balance: ${self.balance}\")  \n",
    "\n",
    "#create a  new bank account\n",
    "account = BankAccount('1234567890', 'Fathima', 1000)\n",
    "\n",
    "#Deposit money\n",
    "account.deposit(500)\n",
    "\n",
    "#withdraw money\n",
    "account.withdraw(200)\n"
   ]
  },
  {
   "cell_type": "code",
   "execution_count": null,
   "metadata": {},
   "outputs": [],
   "source": []
  }
 ],
 "metadata": {
  "kernelspec": {
   "display_name": "Python 3",
   "language": "python",
   "name": "python3"
  },
  "language_info": {
   "codemirror_mode": {
    "name": "ipython",
    "version": 3
   },
   "file_extension": ".py",
   "mimetype": "text/x-python",
   "name": "python",
   "nbconvert_exporter": "python",
   "pygments_lexer": "ipython3",
   "version": "3.12.4"
  }
 },
 "nbformat": 4,
 "nbformat_minor": 2
}
