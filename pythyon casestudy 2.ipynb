{
 "cells": [
  {
   "cell_type": "code",
   "execution_count": 1,
   "metadata": {},
   "outputs": [
    {
     "name": "stdout",
     "output_type": "stream",
     "text": [
      "Day 1: Temperature = 30°C, Humidity = 65% -> Moderate day\n",
      "Day 2: Temperature = 32°C, Humidity = 70% -> Moderate day\n",
      "Day 3: Temperature = 35°C, Humidity = 72% -> Sunny day\n",
      "Day 4: Temperature = 31°C, Humidity = 68% -> Moderate day\n",
      "Day 5: Temperature = 29°C, Humidity = 66% -> Moderate day\n",
      "\n",
      "Average Temperature: 31.4 °C\n",
      "Average Humidity: 68.2 %\n"
     ]
    }
   ],
   "source": [
    "#    Analyze weather data (temperature, humidity, etc.) for a given region\n",
    "#    Example weather data \n",
    "\n",
    "temperatures = [30, 32, 35, 31, 29]       # temperatures in degrees Celsius \n",
    "humidity = [65, 70, 72, 68, 66]           # humidity in percentage \n",
    "\n",
    "def determine_weather_condition(temperature, humidity):\n",
    "    if temperature > 32:\n",
    "        return \"Sunny\"\n",
    "    elif 29 <= temperature <= 32 and humidity > 70:\n",
    "        return \"Humid\"\n",
    "    elif temperature < 29:\n",
    "        return \"Rainy\"\n",
    "    else:\n",
    "        return \"Moderate\"\n",
    "  \n",
    "# Analyzing each day's weather condition \n",
    "\n",
    "for i in range(len(temperatures)):\n",
    "    condition = determine_weather_condition(temperatures[i], humidity[i])\n",
    "    print(f\"Day {i+1}: Temperature = {temperatures[i]}°C, Humidity = {humidity[i]}% -> {condition} day\") \n",
    "    \n",
    "def calculate_average(data):\n",
    "    return sum(data) / len(data)\n",
    "avg_temp = calculate_average(temperatures)\n",
    "avg_humidity = calculate_average(humidity)\n",
    "print(\"\\nAverage Temperature:\", avg_temp, \"°C\")\n",
    "print(\"Average Humidity:\", avg_humidity, \"%\")"
   ]
  },
  {
   "cell_type": "markdown",
   "metadata": {},
   "source": []
  }
 ],
 "metadata": {
  "kernelspec": {
   "display_name": "Python 3",
   "language": "python",
   "name": "python3"
  },
  "language_info": {
   "codemirror_mode": {
    "name": "ipython",
    "version": 3
   },
   "file_extension": ".py",
   "mimetype": "text/x-python",
   "name": "python",
   "nbconvert_exporter": "python",
   "pygments_lexer": "ipython3",
   "version": "3.12.4"
  }
 },
 "nbformat": 4,
 "nbformat_minor": 2
}
